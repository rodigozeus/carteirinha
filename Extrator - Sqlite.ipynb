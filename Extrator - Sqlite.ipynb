{
 "cells": [
  {
   "cell_type": "code",
   "execution_count": 7,
   "id": "91699316",
   "metadata": {},
   "outputs": [],
   "source": [
    "import sqlite3\n",
    "import pandas as pd\n",
    "import os"
   ]
  },
  {
   "cell_type": "markdown",
   "id": "b26fae8b",
   "metadata": {},
   "source": [
    "### Extrai e converte em JSON, CSV e XLSX"
   ]
  },
  {
   "cell_type": "code",
   "execution_count": 8,
   "id": "056b9e01",
   "metadata": {},
   "outputs": [
    {
     "name": "stdout",
     "output_type": "stream",
     "text": [
      "Dados convertidos e salvos em dados_alunos.json\n",
      "Dados convertidos e salvos em dados_alunos.csv\n",
      "Dados convertidos e salvos em dados_alunos.xlsx\n"
     ]
    }
   ],
   "source": [
    "con = sqlite3.connect('dados_alunos.db')\n",
    "\n",
    "df = pd.read_sql_query(\"SELECT * FROM alunos\", con)\n",
    "\n",
    "con.close()\n",
    "\n",
    "diretorio_saida = 'dados_extraidos'\n",
    "os.makedirs(diretorio_saida, exist_ok=True)\n",
    "\n",
    "df.to_json(os.path.join(diretorio_saida, 'dados_alunos.json'), orient='records', force_ascii=False, indent=4)\n",
    "print(\"Dados convertidos e salvos em dados_alunos.json\")\n",
    "\n",
    "df.to_csv(os.path.join(diretorio_saida, 'dados_alunos.csv'), index=False, encoding='utf-8')\n",
    "print(\"Dados convertidos e salvos em dados_alunos.csv\")\n",
    "\n",
    "df.to_excel(os.path.join(diretorio_saida, 'dados_alunos.xlsx'), index=False, engine='openpyxl')\n",
    "print(\"Dados convertidos e salvos em dados_alunos.xlsx\")\n"
   ]
  }
 ],
 "metadata": {
  "kernelspec": {
   "display_name": "Python 3 (ipykernel)",
   "language": "python",
   "name": "python3"
  },
  "language_info": {
   "codemirror_mode": {
    "name": "ipython",
    "version": 3
   },
   "file_extension": ".py",
   "mimetype": "text/x-python",
   "name": "python",
   "nbconvert_exporter": "python",
   "pygments_lexer": "ipython3",
   "version": "3.12.4"
  }
 },
 "nbformat": 4,
 "nbformat_minor": 5
}

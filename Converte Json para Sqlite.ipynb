{
 "cells": [
  {
   "cell_type": "code",
   "execution_count": 1,
   "id": "ff4093f7-ec26-4306-b907-8d4095fc52ba",
   "metadata": {},
   "outputs": [],
   "source": [
    "# converter o database fake em sqlite:\n",
    "\n",
    "import json\n",
    "import sqlite3\n",
    "\n",
    "with open('alunos.json', 'r', encoding='utf-8') as f:\n",
    "    data = json.load(f)\n",
    "\n",
    "conn = sqlite3.connect('dados_alunos.db')\n",
    "c = conn.cursor()\n",
    "\n",
    "c.execute(\"CREATE TABLE IF NOT EXISTS alunos (Nome TEXT, Serie TEXT, Turma TEXT, Matricula INTEGER PRIMARY KEY);\")\n",
    "\n",
    "for student in data['students']:\n",
    "    c.execute('''\n",
    "        INSERT INTO alunos (Nome, Serie, Turma, Matricula)\n",
    "        VALUES (?, ?, ?, ?);\n",
    "    ''', (\n",
    "        student['Nome'],\n",
    "        student['Serie'],\n",
    "        student['turma'],\n",
    "        int(student['Matricula'])\n",
    "    ))\n",
    "\n",
    "conn.commit()\n",
    "conn.close()\n",
    "\n"
   ]
  },
  {
   "cell_type": "code",
   "execution_count": 1,
   "id": "465d6649",
   "metadata": {},
   "outputs": [
    {
     "name": "stdout",
     "output_type": "stream",
     "text": [
      "                       Nome Serie Turma  Matricula 18-06-24-entrada  \\\n",
      "0          Ana Paula Arósio    1ª     A   12345678         06:49:53   \n",
      "1               Lulu Santos    3ª     C   23456789         06:50:37   \n",
      "2              Renato Russo    2ª     A   34567890         06:50:37   \n",
      "3  Angélica que vai de Táxi    2ª     B   87654321         06:50:37   \n",
      "4       Monalisa da Pintura    1ª     D   98765432         08:31:41   \n",
      "\n",
      "  18-06-24-saida 20-06-24-entrada 20-06-24-saida  \n",
      "0       08:31:52         10:33:25       10:49:03  \n",
      "1       08:31:56         10:33:38       10:49:09  \n",
      "2       08:31:28         10:33:33       10:48:58  \n",
      "3       08:31:31         10:49:05              F  \n",
      "4       08:35:38         10:33:35       10:49:07  \n"
     ]
    }
   ],
   "source": [
    "#dar uma olhada se deu bom:\n",
    "\n",
    "import pandas as pd\n",
    "import sqlite3\n",
    "\n",
    "conn = sqlite3.connect('dados_alunos.db')\n",
    "\n",
    "df_total = pd.read_sql_query(\"SELECT * FROM alunos\", conn)\n",
    "\n",
    "print(df_total.head(10))\n",
    "\n",
    "conn.close()"
   ]
  }
 ],
 "metadata": {
  "kernelspec": {
   "display_name": "Python 3 (ipykernel)",
   "language": "python",
   "name": "python3"
  },
  "language_info": {
   "codemirror_mode": {
    "name": "ipython",
    "version": 3
   },
   "file_extension": ".py",
   "mimetype": "text/x-python",
   "name": "python",
   "nbconvert_exporter": "python",
   "pygments_lexer": "ipython3",
   "version": "3.11.7"
  }
 },
 "nbformat": 4,
 "nbformat_minor": 5
}

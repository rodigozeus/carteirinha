{
 "cells": [
  {
   "cell_type": "code",
   "execution_count": 7,
   "id": "ff4093f7-ec26-4306-b907-8d4095fc52ba",
   "metadata": {},
   "outputs": [],
   "source": [
    "# converter o database fake em sqlite:\n",
    "\n",
    "import json\n",
    "import sqlite3\n",
    "\n",
    "with open('alunos.json', 'r', encoding='utf-8') as f:\n",
    "    data = json.load(f)\n",
    "\n",
    "conn = sqlite3.connect('dados_alunos.db')\n",
    "c = conn.cursor()\n",
    "\n",
    "c.execute(\"CREATE TABLE IF NOT EXISTS alunos (Nome TEXT, Serie TEXT, Turma TEXT, Matricula TEXT);\")\n",
    "\n",
    "for student in data['students']:\n",
    "    c.execute('''\n",
    "        INSERT INTO alunos (Nome, Serie, Turma, Matricula)\n",
    "        VALUES (?, ?, ?, ?);\n",
    "    ''', (\n",
    "        student['Nome'],\n",
    "        student['Serie'],\n",
    "        student['turma'],\n",
    "        int(student['Matricula'])\n",
    "    ))\n",
    "\n",
    "conn.commit()\n",
    "conn.close()\n",
    "\n"
   ]
  },
  {
   "cell_type": "code",
   "execution_count": 22,
   "id": "465d6649",
   "metadata": {},
   "outputs": [
    {
     "name": "stdout",
     "output_type": "stream",
     "text": [
      "                       Nome Serie Turma Matricula\n",
      "0          Ana Paula Arósio    1ª     A  12345678\n",
      "1  Angélica que vai de Táxi    2ª     B  87654321\n",
      "2       Monalisa da Pintura    1ª     D  98765432\n",
      "3              Renato Russo    2ª     A  34567890\n",
      "4              Felipe Costa    3ª     B  87654310\n"
     ]
    }
   ],
   "source": [
    "#dar uma olhada se deu bom:\n",
    "\n",
    "import pandas as pd\n",
    "\n",
    "conn = sqlite3.connect('dados_alunos.db')\n",
    "\n",
    "df_total = pd.read_sql_query(\"SELECT * FROM alunos\", conn)\n",
    "\n",
    "print(df_total.head(5))\n",
    "\n",
    "conn.close()"
   ]
  },
  {
   "cell_type": "code",
   "execution_count": 19,
   "id": "33a92c01",
   "metadata": {},
   "outputs": [],
   "source": [
    "## Script pra excluir as matrículas duplicadas no database fake\n",
    "\n",
    "conn = sqlite3.connect('dados_alunos.db')\n",
    "c = conn.cursor()\n",
    "\n",
    "c.execute('''\n",
    "    SELECT Matricula\n",
    "    FROM alunos\n",
    "    GROUP BY Matricula\n",
    "    HAVING COUNT(Matricula) > 1;\n",
    "''')\n",
    "\n",
    "results = c.fetchall()\n",
    "\n",
    "matriculas_duplicadas = [row[0] for row in results]\n",
    "\n",
    "for matricula in matriculas_duplicadas:\n",
    "    c.execute('''\n",
    "        DELETE FROM alunos\n",
    "        WHERE Matricula = ?;\n",
    "    ''', (matricula,))\n",
    "conn.commit()\n",
    "conn.close()"
   ]
  }
 ],
 "metadata": {
  "kernelspec": {
   "display_name": "Python 3 (ipykernel)",
   "language": "python",
   "name": "python3"
  },
  "language_info": {
   "codemirror_mode": {
    "name": "ipython",
    "version": 3
   },
   "file_extension": ".py",
   "mimetype": "text/x-python",
   "name": "python",
   "nbconvert_exporter": "python",
   "pygments_lexer": "ipython3",
   "version": "3.12.4"
  }
 },
 "nbformat": 4,
 "nbformat_minor": 5
}

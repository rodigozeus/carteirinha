{
 "cells": [
  {
   "cell_type": "code",
   "execution_count": 2,
   "id": "465d6649",
   "metadata": {},
   "outputs": [
    {
     "name": "stdout",
     "output_type": "stream",
     "text": [
      "                       Nome Serie Turma  Matricula 18-06-24-entrada  \\\n",
      "0          Ana Paula Arósio    1ª     A   12345678         06:49:53   \n",
      "1               Lulu Santos    3ª     C   23456789         06:50:37   \n",
      "2              Renato Russo    2ª     A   34567890         06:50:37   \n",
      "3  Angélica que vai de Táxi    2ª     B   87654321         06:50:37   \n",
      "4       Monalisa da Pintura    1ª     D   98765432                F   \n",
      "\n",
      "  18-06-24-saida  \n",
      "0       08:17:05  \n",
      "1       06:50:44  \n",
      "2       06:50:44  \n",
      "3       08:17:26  \n",
      "4              F  \n"
     ]
    }
   ],
   "source": [
    "#dar uma olhada se deu bom:\n",
    "\n",
    "import pandas as pd\n",
    "import sqlite3\n",
    "\n",
    "conn = sqlite3.connect('dados_alunos.db')\n",
    "\n",
    "df_total = pd.read_sql_query(\"SELECT * FROM alunos\", conn)\n",
    "\n",
    "print(df_total.head(5))\n",
    "\n",
    "conn.close()"
   ]
  }
 ],
 "metadata": {
  "kernelspec": {
   "display_name": "Python 3 (ipykernel)",
   "language": "python",
   "name": "python3"
  },
  "language_info": {
   "codemirror_mode": {
    "name": "ipython",
    "version": 3
   },
   "file_extension": ".py",
   "mimetype": "text/x-python",
   "name": "python",
   "nbconvert_exporter": "python",
   "pygments_lexer": "ipython3",
   "version": "3.11.7"
  }
 },
 "nbformat": 4,
 "nbformat_minor": 5
}

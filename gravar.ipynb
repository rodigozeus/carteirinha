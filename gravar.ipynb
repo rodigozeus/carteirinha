{
 "cells": [
  {
   "cell_type": "code",
   "execution_count": 13,
   "id": "465d6649",
   "metadata": {},
   "outputs": [
    {
     "name": "stdout",
     "output_type": "stream",
     "text": [
      "('06:50:37',)\n",
      "('06:50:44',)\n",
      "('06:50:44',)\n",
      "('06:50:44',)\n"
     ]
    }
   ],
   "source": [
    "import sqlite3\n",
    "from datetime import datetime\n",
    "\n",
    "def registrar_presenca(matricula):\n",
    "    # Conexão com o banco de dados SQLite\n",
    "    conn = sqlite3.connect('dados_alunos.db')\n",
    "    cursor = conn.cursor()\n",
    "        \n",
    "    # Obter a data atual no formato 'YYYY-MM-DD'\n",
    "    data_atual = datetime.now().strftime('%d-%m-%y')\n",
    "    coluna_entrada = f'{data_atual}-entrada'\n",
    "    coluna_saida = f'{data_atual}-saida'\n",
    "    horario_atual = datetime.now().strftime('%H:%M:%S')\n",
    "        \n",
    "    # Verificar se as colunas de entrada e saída existem, caso contrário, criar\n",
    "    cursor.execute(f\"PRAGMA table_info(alunos)\")\n",
    "    colunas = [info[1] for info in cursor.fetchall()]\n",
    "        \n",
    "    if coluna_entrada not in colunas:\n",
    "        cursor.execute(f\"ALTER TABLE alunos ADD COLUMN '{coluna_entrada}' TEXT\")\n",
    "        cursor.execute(f\"UPDATE alunos SET '{coluna_entrada}' = 'F'\")\n",
    "        conn.commit()\n",
    "        \n",
    "    if coluna_saida not in colunas:\n",
    "        cursor.execute(f\"ALTER TABLE alunos ADD COLUMN '{coluna_saida}' TEXT\")\n",
    "        cursor.execute(f\"UPDATE alunos SET '{coluna_saida}' = 'F'\")\n",
    "        conn.commit()\n",
    "        \n",
    "    # Registrar o horário de entrada ou saída\n",
    "    query = f\"\"\"SELECT \"{coluna_entrada}\" FROM alunos WHERE Matricula = '{matricula}'\"\"\"\n",
    "    cursor.execute(query)\n",
    "    entrada = cursor.fetchone()\n",
    "        \n",
    "    if entrada[0] == 'F':\n",
    "        cursor.execute(f\"UPDATE alunos SET '{coluna_entrada}' = ? WHERE Matricula = ?\", (horario_atual, matricula))\n",
    "    else:\n",
    "        cursor.execute(f\"\"\"SELECT \"{coluna_saida}\" FROM alunos WHERE Matricula = ?\"\"\", (matricula,))\n",
    "        saida = cursor.fetchone()\n",
    "            \n",
    "        if saida[0] == 'F':\n",
    "            cursor.execute(f\"UPDATE alunos SET '{coluna_saida}' = ? WHERE Matricula = ?\", (horario_atual, matricula))\n",
    "        \n",
    "    # Confirmar as mudanças e fechar a conexão\n",
    "    conn.commit()\n",
    "    conn.close()\n",
    "\n",
    "registrar_presenca(12345678)\n",
    "registrar_presenca(23456789)\n",
    "registrar_presenca(34567890)\n",
    "registrar_presenca(87654321)"
   ]
  },
  {
   "cell_type": "code",
   "execution_count": 14,
   "id": "98c3a60a",
   "metadata": {},
   "outputs": [
    {
     "name": "stdout",
     "output_type": "stream",
     "text": [
      "                       Nome Serie Turma  Matricula 18-06-24-entrada  \\\n",
      "0          Ana Paula Arósio    1ª     A   12345678         06:49:53   \n",
      "1               Lulu Santos    3ª     C   23456789         06:50:37   \n",
      "2              Renato Russo    2ª     A   34567890         06:50:37   \n",
      "3  Angélica que vai de Táxi    2ª     B   87654321         06:50:37   \n",
      "4       Monalisa da Pintura    1ª     D   98765432                F   \n",
      "\n",
      "  18-06-24-saida  \n",
      "0       06:50:37  \n",
      "1       06:50:44  \n",
      "2       06:50:44  \n",
      "3       06:50:44  \n",
      "4              F  \n"
     ]
    }
   ],
   "source": [
    "#dar uma olhada se deu bom:\n",
    "\n",
    "import pandas as pd\n",
    "import sqlite3\n",
    "\n",
    "conn = sqlite3.connect('dados_alunos.db')\n",
    "\n",
    "df_total = pd.read_sql_query(\"SELECT * FROM alunos\", conn)\n",
    "\n",
    "print(df_total.head(5))\n",
    "\n",
    "conn.close()"
   ]
  }
 ],
 "metadata": {
  "kernelspec": {
   "display_name": "Python 3 (ipykernel)",
   "language": "python",
   "name": "python3"
  },
  "language_info": {
   "codemirror_mode": {
    "name": "ipython",
    "version": 3
   },
   "file_extension": ".py",
   "mimetype": "text/x-python",
   "name": "python",
   "nbconvert_exporter": "python",
   "pygments_lexer": "ipython3",
   "version": "3.12.4"
  }
 },
 "nbformat": 4,
 "nbformat_minor": 5
}
